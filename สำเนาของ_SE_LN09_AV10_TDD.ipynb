{
  "nbformat": 4,
  "nbformat_minor": 0,
  "metadata": {
    "colab": {
      "provenance": []
    },
    "kernelspec": {
      "name": "python3",
      "display_name": "Python 3"
    },
    "language_info": {
      "name": "python"
    }
  },
  "cells": [
    {
      "cell_type": "markdown",
      "source": [
        "**SE Offline class on 8/8/2024**\n",
        "# Activity 10: Another TDD Exercise\n",
        "**What to expect**:\n",
        "\n",
        "1.   A self-study exercise to learn more about TDD\n",
        "2.   A submission of this exercise on Mango.\n",
        "\n",
        "\n",
        "**Exercise outline**: There are 7 topics to follow and submit.\n",
        "\n",
        "\n",
        "1.   TDD introduction\n",
        "1.   Prime factor kata\n",
        "1.   Task breakdown\n",
        "1.   TDD process in action\n",
        "2.   Retrospective session\n",
        "2.   Answering questions\n",
        "2.   Exericse submission\n",
        "\n",
        "**1. TDD introduction**\n",
        "(scrum.org, oreilly.com)\n",
        "\n",
        "\n",
        "*   A test-first approach that writes a failing test and makes it pass.\n",
        "*   Involves baby steps.\n",
        "\n",
        "Robert C. Martin or “Uncle Bob”), the author of Clean Code book, provides a set of rules for practicing TDD.\n",
        "\n",
        "Rule #1 \"Write production code only to pass a failing unit test.\"\n",
        "\n",
        "Rule #2 \"Write no more of a unit test than sufficient to fail (compilation failures are failures).\"\n",
        "\n",
        "Rule #3 \"Write no more production code than necessary to pass the one failing unit test.\""
      ],
      "metadata": {
        "id": "fmDlQ40Rh8T4"
      }
    },
    {
      "cell_type": "markdown",
      "source": [
        "**2. Prime Factor Kata**\n",
        "\n",
        "*   This exercise asks you to follow the prime factor kata on scrum.org to practicing TDD.\n",
        "*   Prime Factor Kata is a coding exercise to implement primeGenerate(n) method where n is an integer number. The method primeGenerate(n) returns the list of integers containing the prime factors of n. If you can, arrange the factors in increasing numerical order.\n",
        "\n",
        "\n",
        "**3. Task breakdown**\n",
        "1.   primeGenerate(1)=[]\n",
        "2.   primeGenerate(2)=[2]\n",
        "1.   primeGenerate(3)=[3]\n",
        "1.   primeGenerate(4)=[2,2]\n",
        "1.   primeGenerate(6)=[2,3]\n",
        "2.   primeGenerate(8)=[2,2,2]\n",
        "2.   primeGenerate(9)=[3,3]\n",
        "2.   primeGenerate(10)=[2,5]\n",
        "1.   primeGenerate(30)=[2,3,5]"
      ],
      "metadata": {
        "id": "c0affHlYw5cl"
      }
    },
    {
      "cell_type": "markdown",
      "source": [
        "**4. A TDD process**\n",
        "1. Write tests\n",
        "2. Test to fail\n",
        "1. Write code\n",
        "2. Test to pass\n",
        "1. Refactor\n",
        "2. Repeat step 1 to 5 until all tasks are implemented."
      ],
      "metadata": {
        "id": "fXIL7CYlBTMp"
      }
    },
    {
      "cell_type": "markdown",
      "source": [
        "*TDD process in action starts here*\n",
        "\n",
        "*For task 1*. primeGenerate(1)=[],\n",
        "\n",
        "*TDD Step 1 & 2*: Write test to fail."
      ],
      "metadata": {
        "id": "jNWMBEjx3RxG"
      }
    },
    {
      "cell_type": "code",
      "source": [
        "#Task 1. Step 1 & 2\n",
        "\n",
        "primeGenerate(1)==[]"
      ],
      "metadata": {
        "colab": {
          "base_uri": "https://localhost:8080/"
        },
        "id": "e_fB0PrVvB-K",
        "outputId": "4be67c44-f737-4a76-bc7d-40f36d20b5cf"
      },
      "execution_count": null,
      "outputs": [
        {
          "output_type": "execute_result",
          "data": {
            "text/plain": [
              "False"
            ]
          },
          "metadata": {},
          "execution_count": 3
        }
      ]
    },
    {
      "cell_type": "markdown",
      "source": [
        "*TDD Step 3*: Write code just to pass\n"
      ],
      "metadata": {
        "id": "Xp-nP0GF3ofg"
      }
    },
    {
      "cell_type": "code",
      "source": [
        "#Task 1. Step 3\n",
        "def primeGenerate(n):\n",
        "    if n == 1:\n",
        "        return []\n",
        "    return []"
      ],
      "metadata": {
        "id": "8yW7oCm3wRQA"
      },
      "execution_count": 1,
      "outputs": []
    },
    {
      "cell_type": "markdown",
      "source": [
        "*TDD Step 4*: Test to pass\n"
      ],
      "metadata": {
        "id": "lYGoBqSS32UA"
      }
    },
    {
      "cell_type": "code",
      "source": [
        "#Task 1. Step 4\n",
        "primeGenerate(1)==[]"
      ],
      "metadata": {
        "colab": {
          "base_uri": "https://localhost:8080/"
        },
        "id": "nOnM_KXOwiIM",
        "outputId": "35ee3e75-e327-44fa-d2a8-0f15d6b9a852"
      },
      "execution_count": 2,
      "outputs": [
        {
          "output_type": "execute_result",
          "data": {
            "text/plain": [
              "True"
            ]
          },
          "metadata": {},
          "execution_count": 2
        }
      ]
    },
    {
      "cell_type": "markdown",
      "source": [
        "*TDD Step 5*: Refactor if needed. Test the code every time you refactor."
      ],
      "metadata": {
        "id": "3QLB21AP38TK"
      }
    },
    {
      "cell_type": "code",
      "source": [
        "#Task 1. Step 5\n",
        "#No need to refactor"
      ],
      "metadata": {
        "id": "mLlkP5C7pB7K"
      },
      "execution_count": null,
      "outputs": []
    },
    {
      "cell_type": "markdown",
      "source": [
        "*Now repeat step 1 to 5* for the remaining tasks.\n",
        "\n",
        "*For task 2*. primeGenerate(2)=[],"
      ],
      "metadata": {
        "id": "sJPOT0Zc3Ewu"
      }
    },
    {
      "cell_type": "code",
      "source": [
        "#Task 2. Step 1 & 2\n",
        "primeGenerate(2)==[]"
      ],
      "metadata": {
        "id": "4DsO_QwO4gAr",
        "colab": {
          "base_uri": "https://localhost:8080/"
        },
        "outputId": "20011761-ca2a-4e80-ab74-10f90b8f51c9"
      },
      "execution_count": null,
      "outputs": [
        {
          "output_type": "execute_result",
          "data": {
            "text/plain": [
              "False"
            ]
          },
          "metadata": {},
          "execution_count": 8
        }
      ]
    },
    {
      "cell_type": "code",
      "source": [
        "#Task 2. Step 3\n",
        "def primeGenerate(n):\n",
        "    if n == 1 or n==2:\n",
        "        return []\n",
        "    return []"
      ],
      "metadata": {
        "id": "y7OFWPLquOmD"
      },
      "execution_count": null,
      "outputs": []
    },
    {
      "cell_type": "code",
      "source": [
        "#Task 2. Step 4\n",
        "primeGenerate(2)==[]"
      ],
      "metadata": {
        "colab": {
          "base_uri": "https://localhost:8080/"
        },
        "id": "e2tn3PFduivn",
        "outputId": "f7c74918-5a27-47a1-c176-9dc4f785aa17"
      },
      "execution_count": null,
      "outputs": [
        {
          "output_type": "execute_result",
          "data": {
            "text/plain": [
              "True"
            ]
          },
          "metadata": {},
          "execution_count": 13
        }
      ]
    },
    {
      "cell_type": "code",
      "source": [
        "#Task 2. Step 5\n",
        "def primeGenerate(n):\n",
        "    if n < 2:\n",
        "        return []\n",
        "    return []\n",
        "primeGenerate(3)==[]"
      ],
      "metadata": {
        "colab": {
          "base_uri": "https://localhost:8080/"
        },
        "id": "9wyCMzkAunZB",
        "outputId": "1c4e763b-c7d2-4e36-efdd-fc7a1bdab2fa"
      },
      "execution_count": null,
      "outputs": [
        {
          "output_type": "execute_result",
          "data": {
            "text/plain": [
              "True"
            ]
          },
          "metadata": {},
          "execution_count": 17
        }
      ]
    },
    {
      "cell_type": "markdown",
      "source": [
        "For task 3, primeGenerate(3)=[3]."
      ],
      "metadata": {
        "id": "VjMm8tlKvRro"
      }
    },
    {
      "cell_type": "code",
      "source": [
        "#Task 3. Step 1 & 2\n",
        "\n",
        "primeGenerate(3)==[3]"
      ],
      "metadata": {
        "id": "rnjqdyihvicb",
        "colab": {
          "base_uri": "https://localhost:8080/"
        },
        "outputId": "a0735be2-095d-46c6-abbb-9ee146bde305"
      },
      "execution_count": 4,
      "outputs": [
        {
          "output_type": "execute_result",
          "data": {
            "text/plain": [
              "False"
            ]
          },
          "metadata": {},
          "execution_count": 4
        }
      ]
    },
    {
      "cell_type": "code",
      "source": [
        "#Task 3. Step 3\n",
        "def primeGenerate(n):\n",
        "    if n == 1:\n",
        "        return []\n",
        "        if n == 2:\n",
        "          return []\n",
        "          if n == 3:\n",
        "            return []\n",
        "    return []"
      ],
      "metadata": {
        "id": "szPr7lyfbTKR"
      },
      "execution_count": 32,
      "outputs": []
    },
    {
      "cell_type": "code",
      "source": [
        "#Task 3. Step 4\n",
        "primeGenerate(3)==[]"
      ],
      "metadata": {
        "colab": {
          "base_uri": "https://localhost:8080/"
        },
        "id": "28_WwdRVbpiA",
        "outputId": "fdb5c032-110e-49e5-c852-7fec2f39bdf3"
      },
      "execution_count": 7,
      "outputs": [
        {
          "output_type": "execute_result",
          "data": {
            "text/plain": [
              "True"
            ]
          },
          "metadata": {},
          "execution_count": 7
        }
      ]
    },
    {
      "cell_type": "code",
      "source": [
        "#Task 3. Step 5\n",
        "#No need to refactor"
      ],
      "metadata": {
        "id": "nBCClJo2gzm0"
      },
      "execution_count": null,
      "outputs": []
    },
    {
      "cell_type": "markdown",
      "source": [
        "\n",
        "\n",
        "For task 4,primeGenerate(4)=[2,2]\n",
        "\n",
        "> เพิ่มข้อความทั้งย่อหน้าที่ยกมา\n",
        "\n",
        "\n",
        "\n"
      ],
      "metadata": {
        "id": "o0oNau7lhYrG"
      }
    },
    {
      "cell_type": "code",
      "source": [
        "#Task 4. Step 1 & 2\n",
        "\n",
        "primeGenerate(4)==[2,2]"
      ],
      "metadata": {
        "colab": {
          "base_uri": "https://localhost:8080/"
        },
        "id": "RXgmbUqohimC",
        "outputId": "9acb85d1-6ba2-4e47-9360-12c5c4966242"
      },
      "execution_count": 8,
      "outputs": [
        {
          "output_type": "execute_result",
          "data": {
            "text/plain": [
              "False"
            ]
          },
          "metadata": {},
          "execution_count": 8
        }
      ]
    },
    {
      "cell_type": "code",
      "source": [
        "#Task 4. Step 3\n",
        "def primeGenerate(n):\n",
        "    if n < 2:\n",
        "        return []\n",
        "    if n == 2:\n",
        "        return [2]\n",
        "    if n == 3:\n",
        "        return [3]\n",
        "    if n == 4:\n",
        "        return [2, 2]\n",
        "    return []"
      ],
      "metadata": {
        "id": "QKvPEvcriZD6"
      },
      "execution_count": 40,
      "outputs": []
    },
    {
      "cell_type": "code",
      "source": [
        "#Task 4. Step 4\n",
        "primeGenerate(4)==[2,2]"
      ],
      "metadata": {
        "colab": {
          "base_uri": "https://localhost:8080/"
        },
        "id": "_3ntwmUQizya",
        "outputId": "a8f34214-263a-4776-fa50-b8b6315f58c4"
      },
      "execution_count": 41,
      "outputs": [
        {
          "output_type": "execute_result",
          "data": {
            "text/plain": [
              "True"
            ]
          },
          "metadata": {},
          "execution_count": 41
        }
      ]
    },
    {
      "cell_type": "code",
      "source": [
        "#Task 4. Step 5\n",
        "#No need to refactor"
      ],
      "metadata": {
        "id": "fSbo2FzFjGYS"
      },
      "execution_count": null,
      "outputs": []
    },
    {
      "cell_type": "markdown",
      "source": [
        "For task 5,primeGenerate(6)=[2,3]\n"
      ],
      "metadata": {
        "id": "BSwVFakHjhP4"
      }
    },
    {
      "cell_type": "code",
      "source": [
        "#Task 5. Step 1 & 2\n",
        "\n",
        "primeGenerate(6)==[2,3]"
      ],
      "metadata": {
        "colab": {
          "base_uri": "https://localhost:8080/"
        },
        "id": "izOwGormj1Dc",
        "outputId": "644c2fa6-7872-4dcb-fb4e-d3b8d73222d3"
      },
      "execution_count": 12,
      "outputs": [
        {
          "output_type": "execute_result",
          "data": {
            "text/plain": [
              "False"
            ]
          },
          "metadata": {},
          "execution_count": 12
        }
      ]
    },
    {
      "cell_type": "code",
      "source": [
        "#Task 5. Step 3\n",
        "def primeGenerate(n):\n",
        "    if n < 2:\n",
        "        return []\n",
        "    if n == 2:\n",
        "        return [2]\n",
        "    if n == 3:\n",
        "        return [3]\n",
        "    if n == 4:\n",
        "        return [2, 2]\n",
        "    if n == 6:\n",
        "      return [2,3]\n",
        "    return []"
      ],
      "metadata": {
        "id": "w1IVRxhVj-pS"
      },
      "execution_count": 59,
      "outputs": []
    },
    {
      "cell_type": "code",
      "source": [
        "#Task 5. Step 4\n",
        "primeGenerate(6)==[2,3]"
      ],
      "metadata": {
        "colab": {
          "base_uri": "https://localhost:8080/"
        },
        "id": "lwVUg8HOkLJh",
        "outputId": "00cec886-d0f0-41ac-e56d-b9b50c21b624"
      },
      "execution_count": 60,
      "outputs": [
        {
          "output_type": "execute_result",
          "data": {
            "text/plain": [
              "True"
            ]
          },
          "metadata": {},
          "execution_count": 60
        }
      ]
    },
    {
      "cell_type": "code",
      "source": [
        "#Task 5. Step 5\n",
        "#No need to refactor"
      ],
      "metadata": {
        "id": "_texaffFkV_X"
      },
      "execution_count": null,
      "outputs": []
    },
    {
      "cell_type": "markdown",
      "source": [
        "For task 6,primeGenerate(8)=[2,2,2]\n"
      ],
      "metadata": {
        "id": "2-gsKQm8kf-y"
      }
    },
    {
      "cell_type": "code",
      "source": [
        "#Task 6. Step 1 & 2\n",
        "\n",
        "primeGenerate(8)==[2,2,2]"
      ],
      "metadata": {
        "id": "X3ExJuSVkmfB"
      },
      "execution_count": null,
      "outputs": []
    },
    {
      "cell_type": "code",
      "source": [
        "#Task 6. Step 3\n",
        "def primeGenerate(n):\n",
        "    if n < 2:\n",
        "        return []\n",
        "    if n == 2:\n",
        "        return [2]\n",
        "    if n == 3:\n",
        "        return [3]\n",
        "    if n == 4:\n",
        "        return [2, 2]\n",
        "    if n == 6:\n",
        "      return [2,3]\n",
        "    if n == 8:\n",
        "      return [2,2,2]\n",
        "    return []"
      ],
      "metadata": {
        "id": "lFyBh9qFk8Q5"
      },
      "execution_count": 57,
      "outputs": []
    },
    {
      "cell_type": "code",
      "source": [
        "#Task 6. Step 4\n",
        "primeGenerate(8)==[2,2,2]"
      ],
      "metadata": {
        "colab": {
          "base_uri": "https://localhost:8080/"
        },
        "id": "IN9B08O5lHC3",
        "outputId": "d00b49b6-30be-431b-bc1b-55549cecc565"
      },
      "execution_count": 58,
      "outputs": [
        {
          "output_type": "execute_result",
          "data": {
            "text/plain": [
              "True"
            ]
          },
          "metadata": {},
          "execution_count": 58
        }
      ]
    },
    {
      "cell_type": "code",
      "source": [
        "#Task 6. Step 5\n",
        "#No need to refactor"
      ],
      "metadata": {
        "id": "eXSN1ABKlOrL"
      },
      "execution_count": null,
      "outputs": []
    },
    {
      "cell_type": "markdown",
      "source": [
        "For task 7,primeGenerate(9)=[3,3]\n",
        "\n",
        "1.   รายการในลิสต์\n",
        "2.   รายการในลิสต์\n",
        "\n",
        "\n"
      ],
      "metadata": {
        "id": "kt4IpP5elWXn"
      }
    },
    {
      "cell_type": "code",
      "source": [
        "#Task 7. Step 1 & 2\n",
        "\n",
        "primeGenerate(9)==[3,3]"
      ],
      "metadata": {
        "colab": {
          "base_uri": "https://localhost:8080/"
        },
        "id": "8jRoEOYJllWq",
        "outputId": "57d26a63-eae7-47e8-caf3-fe81ea9d7258"
      },
      "execution_count": 17,
      "outputs": [
        {
          "output_type": "execute_result",
          "data": {
            "text/plain": [
              "False"
            ]
          },
          "metadata": {},
          "execution_count": 17
        }
      ]
    },
    {
      "cell_type": "code",
      "source": [
        "#Task 7. Step 3\n",
        "def primeGenerate(n):\n",
        "    if n < 2:\n",
        "        return []\n",
        "    if n == 2:\n",
        "        return [2]\n",
        "    if n == 3:\n",
        "        return [3]\n",
        "    if n == 4:\n",
        "        return [2, 2]\n",
        "    if n == 6:\n",
        "      return [2,3]\n",
        "    if n == 8:\n",
        "      return [2,2,2]\n",
        "    if n == 9:\n",
        "      return [3,3]\n",
        "    return []"
      ],
      "metadata": {
        "id": "PPbETHx1lrmA"
      },
      "execution_count": 50,
      "outputs": []
    },
    {
      "cell_type": "code",
      "source": [
        "#Task 7. Step 4\n",
        "primeGenerate(9)==[3,3]"
      ],
      "metadata": {
        "colab": {
          "base_uri": "https://localhost:8080/"
        },
        "id": "qxZqX_zUl9Oe",
        "outputId": "852f18a2-6527-4733-cce1-d02a450a8124"
      },
      "execution_count": 51,
      "outputs": [
        {
          "output_type": "execute_result",
          "data": {
            "text/plain": [
              "True"
            ]
          },
          "metadata": {},
          "execution_count": 51
        }
      ]
    },
    {
      "cell_type": "code",
      "source": [
        "#Task 7. Step 5\n",
        "#No need to refactor"
      ],
      "metadata": {
        "id": "Rv5O3sYLmFGn"
      },
      "execution_count": null,
      "outputs": []
    },
    {
      "cell_type": "markdown",
      "source": [
        "For task 8,primeGenerate(10)=[2,5]\n",
        "\n",
        "\n",
        "\n"
      ],
      "metadata": {
        "id": "bN2kyiYUmMG_"
      }
    },
    {
      "cell_type": "code",
      "source": [
        "#Task 8. Step 1 & 2\n",
        "\n",
        "primeGenerate(10)==[2,5]"
      ],
      "metadata": {
        "id": "LyDyt9YYmkce"
      },
      "execution_count": null,
      "outputs": []
    },
    {
      "cell_type": "code",
      "source": [
        "#Task 8. Step 3\n",
        "def primeGenerate(n):\n",
        "    if n < 2:\n",
        "        return []\n",
        "        if n == 2:\n",
        "          return [2]\n",
        "          if n == 3:\n",
        "            return [3]\n",
        "            if n == 4:\n",
        "              return [2,2]\n",
        "              if n == 6:\n",
        "                return [2,3]\n",
        "                if n == 8:\n",
        "                  return [2,2,2]\n",
        "                  if n == 9:\n",
        "                    return [3,3]\n",
        "                    if n == 10:\n",
        "                      return [2,5]\n",
        "    return []"
      ],
      "metadata": {
        "id": "U6oougTjmsE-"
      },
      "execution_count": 30,
      "outputs": []
    },
    {
      "cell_type": "code",
      "source": [
        "#Task 8. Step 4\n",
        "primeGenerate(10)==[2,5]"
      ],
      "metadata": {
        "colab": {
          "base_uri": "https://localhost:8080/"
        },
        "id": "HwvibDDUm856",
        "outputId": "a33e932c-3e09-4efb-8bb1-5ed7a60c50ba"
      },
      "execution_count": 31,
      "outputs": [
        {
          "output_type": "execute_result",
          "data": {
            "text/plain": [
              "True"
            ]
          },
          "metadata": {},
          "execution_count": 31
        }
      ]
    },
    {
      "cell_type": "code",
      "source": [
        "#Task 8. Step 5\n",
        "#No need to refactor"
      ],
      "metadata": {
        "id": "-sqolQWDnFTq"
      },
      "execution_count": null,
      "outputs": []
    },
    {
      "cell_type": "markdown",
      "source": [
        "For task 9,primeGenerate(30)=[2,3,5]\n",
        "\n",
        "\n",
        "> เพิ่มข้อความทั้งย่อหน้าที่ยกมา\n",
        "\n"
      ],
      "metadata": {
        "id": "122du7yFnNfV"
      }
    },
    {
      "cell_type": "code",
      "source": [
        "#Task 9. Step 1 & 2\n",
        "\n",
        "primeGenerate(30)==[2,3,5]"
      ],
      "metadata": {
        "colab": {
          "base_uri": "https://localhost:8080/"
        },
        "id": "hRAcJvzZnNFb",
        "outputId": "bc26664d-a215-4f6e-dfc2-24317bbca08f"
      },
      "execution_count": 54,
      "outputs": [
        {
          "output_type": "execute_result",
          "data": {
            "text/plain": [
              "False"
            ]
          },
          "metadata": {},
          "execution_count": 54
        }
      ]
    },
    {
      "cell_type": "code",
      "source": [
        "#Task 9. Step 3\n",
        "def primeGenerate(n):\n",
        "    if n < 2:\n",
        "        return []\n",
        "        if n == 2:\n",
        "          return [2]\n",
        "          if n == 3:\n",
        "            return [3]\n",
        "            if n == 4:\n",
        "              return [2,2]\n",
        "              if n == 6:\n",
        "                return [2,3]\n",
        "                if n == 8:\n",
        "                  return [2,2,2]\n",
        "                  if n == 9:\n",
        "                    return [3,3]\n",
        "                    if n == 10:\n",
        "                      return [2,5]\n",
        "                      if n == 30:\n",
        "                        return [2,3,5]\n",
        "    return []"
      ],
      "metadata": {
        "id": "T-j1gh6PnxFb"
      },
      "execution_count": 28,
      "outputs": []
    },
    {
      "cell_type": "code",
      "source": [
        "#Task 9. Step 4\n",
        "primeGenerate(30)==[2,3,5]"
      ],
      "metadata": {
        "colab": {
          "base_uri": "https://localhost:8080/"
        },
        "id": "a7iDyRpUn-T1",
        "outputId": "0275188b-2841-4d31-e413-fa6f8761fcc1"
      },
      "execution_count": 29,
      "outputs": [
        {
          "output_type": "execute_result",
          "data": {
            "text/plain": [
              "True"
            ]
          },
          "metadata": {},
          "execution_count": 29
        }
      ]
    },
    {
      "cell_type": "code",
      "source": [
        "#Task 9. Step 5\n",
        "def primeGenerate(n):\n",
        "    if n < 2:\n",
        "        return []\n",
        "    factors = []\n",
        "    divisor = 2\n",
        "    while divisor <= n:\n",
        "        while n % divisor == 0:\n",
        "            factors.append(divisor)\n",
        "            n = n // divisor\n",
        "        divisor += 1\n",
        "    return factors"
      ],
      "metadata": {
        "id": "4xnyrSJioEwG"
      },
      "execution_count": 55,
      "outputs": []
    },
    {
      "cell_type": "code",
      "source": [
        "#Test after refactor\n",
        "primeGenerate(1) == []\n",
        "primeGenerate(2) == [2]\n",
        "primeGenerate(3) == [3]\n",
        "primeGenerate(4) == [2,2]\n",
        "primeGenerate(6) == [2,3]\n",
        "primeGenerate(8) == [2,2,2]\n",
        "primeGenerate(9) == [3,3]\n",
        "primeGenerate(10) == [2,5]\n",
        "primeGenerate(30) == [2,3,5]"
      ],
      "metadata": {
        "colab": {
          "base_uri": "https://localhost:8080/"
        },
        "id": "23ddrMSao2fT",
        "outputId": "1dd00aa1-37af-477d-c781-c2d75ac5f561"
      },
      "execution_count": 56,
      "outputs": [
        {
          "output_type": "execute_result",
          "data": {
            "text/plain": [
              "True"
            ]
          },
          "metadata": {},
          "execution_count": 56
        }
      ]
    },
    {
      "cell_type": "markdown",
      "source": [
        "After finishing task 9 and refactoring, *spend 10 minutes for a  retrospective session* with any number of your classmates. Each individual writes a short paragraph to reflect your thought on the process and outcome of writing code using TDD."
      ],
      "metadata": {
        "id": "3mSNgO545vNV"
      }
    },
    {
      "cell_type": "markdown",
      "source": [
        "**5. Write the result of your  retrospective session** here.\n",
        "\n",
        "*   Process: Initially, I found it challenging to write tests that would fail correctly. However, as I progressed, I appreciated how TDD helped me break down problems into smaller, manageable steps. It also became clear how writing tests first led to cleaner, more focused code.\n",
        "\n",
        "*   Outcome: I learned that TDD is a powerful technique for ensuring code reliability by writing tests before the actual implementation. Going forward, I will focus on writing more comprehensive tests initially and will be more diligent about refactoring code after each test pass. This approach will likely improve both the quality of my code and my efficiency in developing it.\n",
        "\n"
      ],
      "metadata": {
        "id": "Wy6jMkWj6CNV"
      }
    },
    {
      "cell_type": "markdown",
      "source": [
        "**6. Answer each of the questions below** in no more than a couple of sentences using your own words.\n",
        "\n",
        "Question 1: What is TDD?\n",
        "\n",
        "TDD is software development that help to test the code.\n",
        "\n",
        "Question 2: Is TDD better than conventional code writing method? Why?\n",
        "\n",
        "TDD is better than conventional code writing method because TDD bugs are detected early because tests are written before the code but the conventional bugs might not be detected until later in the development process."
      ],
      "metadata": {
        "id": "G4q-ElqD_pRI"
      }
    },
    {
      "cell_type": "markdown",
      "source": [
        "**7. Exercise submission**\n",
        "650615034 Savaree Srivorakul\n",
        "When you reach this line and finish all of the above tasks and retrospective, *add your student code to this file name and submit* by clicking on the today's lecture link."
      ],
      "metadata": {
        "id": "rLngfBz56Rg8"
      }
    }
  ]
}